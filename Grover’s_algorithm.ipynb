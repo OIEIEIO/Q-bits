{
  "nbformat": 4,
  "nbformat_minor": 0,
  "metadata": {
    "colab": {
      "provenance": [],
      "authorship_tag": "ABX9TyNaidKIU7jHjSM9KeVZMnQ2",
      "include_colab_link": true
    },
    "kernelspec": {
      "name": "python3",
      "display_name": "Python 3"
    },
    "language_info": {
      "name": "python"
    }
  },
  "cells": [
    {
      "cell_type": "markdown",
      "metadata": {
        "id": "view-in-github",
        "colab_type": "text"
      },
      "source": [
        "<a href=\"https://colab.research.google.com/github/OIEIEIO/Q-bits/blob/main/Grover%E2%80%99s_algorithm.ipynb\" target=\"_parent\"><img src=\"https://colab.research.google.com/assets/colab-badge.svg\" alt=\"Open In Colab\"/></a>"
      ]
    },
    {
      "cell_type": "markdown",
      "source": [
        "\n",
        "\n",
        "---\n",
        "\n",
        "Grover’s algorithm\n",
        "\n",
        "---\n",
        "\n"
      ],
      "metadata": {
        "id": "OgJ_9UcxDiT4"
      }
    },
    {
      "cell_type": "code",
      "source": [
        "!pip install qiskit"
      ],
      "metadata": {
        "id": "Pww3pqTZdStc"
      },
      "execution_count": null,
      "outputs": []
    },
    {
      "cell_type": "code",
      "execution_count": null,
      "metadata": {
        "id": "KyybdXB5ZkKT"
      },
      "outputs": [],
      "source": [
        "!pip install qiskit-ibm-runtime"
      ]
    },
    {
      "cell_type": "code",
      "source": [
        "!pip install pylatexenc"
      ],
      "metadata": {
        "id": "eHUAnGAcEdIF"
      },
      "execution_count": null,
      "outputs": []
    },
    {
      "cell_type": "code",
      "source": [
        "from qiskit_ibm_runtime import QiskitRuntimeService, Sampler\n",
        "\n",
        "# Save your credentials on disk.\n",
        "QiskitRuntimeService.save_account(channel='ibm_quantum', token='use you IBM quantum API token')\n",
        "\n",
        "service = QiskitRuntimeService()"
      ],
      "metadata": {
        "id": "sqmYWECA-P_f"
      },
      "execution_count": 3,
      "outputs": []
    },
    {
      "cell_type": "code",
      "source": [
        "import random\n",
        "from qiskit.quantum_info import Statevector\n",
        "\n",
        "secret = random.randint(0,7)  # the owner is randomly picked\n",
        "secret_string = format(secret, '03b')  # format the owner in 3-bit string\n",
        "oracle = Statevector.from_label(secret_string)  # let the oracle know the owner"
      ],
      "metadata": {
        "id": "wBc8Ft0uD8HW"
      },
      "execution_count": 4,
      "outputs": []
    },
    {
      "cell_type": "code",
      "source": [
        "from qiskit.algorithms import AmplificationProblem\n",
        "\n",
        "problem = AmplificationProblem(oracle, is_good_state=secret_string)"
      ],
      "metadata": {
        "id": "LGnTDahSEDjC"
      },
      "execution_count": 5,
      "outputs": []
    },
    {
      "cell_type": "code",
      "source": [
        "from qiskit.algorithms import Grover\n",
        "\n",
        "grover_circuits = []\n",
        "for iteration in range(1,3):\n",
        "    grover = Grover(iterations=iteration)\n",
        "    circuit = grover.construct_circuit(problem)\n",
        "    circuit.measure_all()\n",
        "    grover_circuits.append(circuit)"
      ],
      "metadata": {
        "id": "2SAvMwvFEFAy"
      },
      "execution_count": 6,
      "outputs": []
    },
    {
      "cell_type": "code",
      "source": [
        "# With 1 iteration\n",
        "grover_circuits[0].draw()"
      ],
      "metadata": {
        "id": "TBQ3s6l2EQzv"
      },
      "execution_count": null,
      "outputs": []
    },
    {
      "cell_type": "code",
      "source": [
        "# With 2 iterations\n",
        "grover_circuits[1].draw()"
      ],
      "metadata": {
        "id": "KsHFGbWbFa_S"
      },
      "execution_count": null,
      "outputs": []
    },
    {
      "cell_type": "markdown",
      "source": [
        "\n",
        "\n",
        "---\n",
        "\n",
        "\n",
        "Connect to the Qiskit Runtime service\n",
        "\n",
        "---\n",
        "\n"
      ],
      "metadata": {
        "id": "zoiRCgzcF0Wo"
      }
    },
    {
      "cell_type": "code",
      "source": [
        "from qiskit_ibm_runtime import QiskitRuntimeService\n",
        "\n",
        "service = QiskitRuntimeService()"
      ],
      "metadata": {
        "id": "7o-IInM3FnPF"
      },
      "execution_count": 20,
      "outputs": []
    },
    {
      "cell_type": "code",
      "source": [
        "import random\n",
        "from qiskit.quantum_info import Statevector\n",
        "\n",
        "secret = random.randint(0,7)  # the owner is randomly picked\n",
        "secret_string = format(secret, '03b')  # format the owner in 3-bit string\n",
        "oracle = Statevector.from_label(secret_string)  # let the oracle know the owner"
      ],
      "metadata": {
        "id": "iSm0ymK4HheH"
      },
      "execution_count": 23,
      "outputs": []
    },
    {
      "cell_type": "code",
      "source": [
        "from qiskit.algorithms import AmplificationProblem\n",
        "\n",
        "problem = AmplificationProblem(oracle, is_good_state=secret_string)"
      ],
      "metadata": {
        "id": "sc6bxc2KHmnc"
      },
      "execution_count": 24,
      "outputs": []
    },
    {
      "cell_type": "code",
      "source": [
        "from qiskit.algorithms import Grover\n",
        "\n",
        "grover_circuits = []\n",
        "for iteration in range(1,3):\n",
        "    grover = Grover(iterations=iteration)\n",
        "    circuit = grover.construct_circuit(problem)\n",
        "    circuit.measure_all()\n",
        "    grover_circuits.append(circuit)"
      ],
      "metadata": {
        "id": "6aTj7aqxHsQv"
      },
      "execution_count": 25,
      "outputs": []
    },
    {
      "cell_type": "code",
      "source": [
        "options={ \"backend\": \"ibmq_qasm_simulator\" }) as sampler:"
      ],
      "metadata": {
        "id": "yrssiAxmIDSM"
      },
      "execution_count": null,
      "outputs": []
    },
    {
      "cell_type": "code",
      "source": [
        "from qiskit_ibm_runtime import Sampler\n",
        "service = QiskitRuntimeService()\n",
        "with Sampler(circuits=grover_circuits, options = { \"backend\": \"ibmq_qasm_simulator\" }) as sampler:\n",
        "    result = sampler(circuits=[0,1], shots=1000)\n",
        "    print(result)"
      ],
      "metadata": {
        "colab": {
          "base_uri": "https://localhost:8080/"
        },
        "id": "qJBQOVzwGF8C",
        "outputId": "78270570-e8fb-4450-cfa0-fe22b3fa8949"
      },
      "execution_count": 28,
      "outputs": [
        {
          "output_type": "stream",
          "name": "stderr",
          "text": [
            "WARNING:websocket:websocket connected\n"
          ]
        },
        {
          "output_type": "stream",
          "name": "stdout",
          "text": [
            "SamplerResult(quasi_dists=[{'010': 0.017, '101': 0.032, '001': 0.032, '100': 0.025, '110': 0.031, '011': 0.8, '000': 0.03, '111': 0.033}, {'010': 0.003, '000': 0.003, '111': 0.006, '011': 0.953, '001': 0.012, '101': 0.007, '110': 0.008, '100': 0.008}], metadata=[{'header_metadata': {}, 'shots': 1000}, {'header_metadata': {}, 'shots': 1000}])\n"
          ]
        }
      ]
    },
    {
      "cell_type": "code",
      "source": [
        "from qiskit.tools.visualization import plot_histogram\n",
        "\n",
        "# Extract bit string with highest probability from results as the answer\n",
        "result_dict = result.quasi_dists[1]\n",
        "answer = max(result_dict, key=result_dict.get)\n",
        "print(f\"As you can see, the quantum computer returned '{answer}' as the answer with highest probability.\\n\"\n",
        "       \"And the results with 2 iterations have higher probability than the results with 1 iteration.\"\n",
        ")\n",
        "\n",
        "# Plot the results\n",
        "plot_histogram(result.quasi_dists, legend=['1 iteration', '2 iterations'])"
      ],
      "metadata": {
        "colab": {
          "base_uri": "https://localhost:8080/",
          "height": 375
        },
        "id": "icrMXa5qKDh2",
        "outputId": "d1755f7f-a6bf-44c0-f4af-d7e327cf004b"
      },
      "execution_count": 29,
      "outputs": [
        {
          "output_type": "stream",
          "name": "stdout",
          "text": [
            "As you can see, the quantum computer returned '011' as the answer with highest probability.\n",
            "And the results with 2 iterations have higher probability than the results with 1 iteration.\n"
          ]
        },
        {
          "output_type": "execute_result",
          "data": {
            "text/plain": [
              "<Figure size 504x360 with 1 Axes>"
            ],
            "image/png": "[encoded data removed]"
          },
          "metadata": {},
          "execution_count": 29
        }
      ]
    },
    {
      "cell_type": "code",
      "source": [
        "# Print the result and the correct answer.\n",
        "print(f\"Quantum answer: {answer}\")\n",
        "print(f\"Correct answer: {secret_string}\")\n",
        "print('Success!' if answer == secret_string else 'Failure!')"
      ],
      "metadata": {
        "colab": {
          "base_uri": "https://localhost:8080/"
        },
        "id": "ZpgGoDYHKK6e",
        "outputId": "255e00f5-9059-47c2-f251-47909a4f4dba"
      },
      "execution_count": 30,
      "outputs": [
        {
          "output_type": "stream",
          "name": "stdout",
          "text": [
            "Quantum answer: 011\n",
            "Correct answer: 011\n",
            "Success!\n"
          ]
        }
      ]
    },
    {
      "cell_type": "code",
      "source": [
        "import qiskit_ibm_runtime\n",
        "qiskit_ibm_runtime.version.get_version_info()"
      ],
      "metadata": {
        "colab": {
          "base_uri": "https://localhost:8080/",
          "height": 35
        },
        "id": "gli6aEu4KQDq",
        "outputId": "dd90501a-f547-43fc-bcc0-d98ab56077c5"
      },
      "execution_count": 31,
      "outputs": [
        {
          "output_type": "execute_result",
          "data": {
            "text/plain": [
              "'0.6.2'"
            ],
            "application/vnd.google.colaboratory.intrinsic+json": {
              "type": "string"
            }
          },
          "metadata": {},
          "execution_count": 31
        }
      ]
    },
    {
      "cell_type": "code",
      "source": [
        "from qiskit.tools.jupyter import *\n",
        "\n",
        "%qiskit_version_table\n",
        "%qiskit_copyright"
      ],
      "metadata": {
        "colab": {
          "base_uri": "https://localhost:8080/",
          "height": 555
        },
        "id": "lyStPnRVKXYc",
        "outputId": "98cc0e5a-43a9-4c97-ef78-8328a51e55d4"
      },
      "execution_count": 32,
      "outputs": [
        {
          "output_type": "display_data",
          "data": {
            "text/plain": [
              "<IPython.core.display.HTML object>"
            ],
            "text/html": [
              "<h3>Version Information</h3><table><tr><th>Qiskit Software</th><th>Version</th></tr><tr><td><code>qiskit-terra</code></td><td>0.22.0</td></tr><tr><td><code>qiskit-aer</code></td><td>0.11.0</td></tr><tr><td><code>qiskit-ibmq-provider</code></td><td>0.19.2</td></tr><tr><td><code>qiskit</code></td><td>0.39.0</td></tr><tr><th>System information</th></tr><tr><td>Python version</td><td>3.7.15</td></tr><tr><td>Python compiler</td><td>GCC 7.5.0</td></tr><tr><td>Python build</td><td>default, Oct 12 2022 19:14:55</td></tr><tr><td>OS</td><td>Linux</td></tr><tr><td>CPUs</td><td>1</td></tr><tr><td>Memory (Gb)</td><td>12.681217193603516</td></tr><tr><td colspan='2'>Thu Oct 20 20:50:39 2022 UTC</td></tr></table>"
            ]
          },
          "metadata": {}
        },
        {
          "output_type": "display_data",
          "data": {
            "text/plain": [
              "<IPython.core.display.HTML object>"
            ],
            "text/html": [
              "<div style='width: 100%; background-color:#d5d9e0;padding-left: 10px; padding-bottom: 10px; padding-right: 10px; padding-top: 5px'><h3>This code is a part of Qiskit</h3><p>&copy; Copyright IBM 2017, 2022.</p><p>This code is licensed under the Apache License, Version 2.0. You may<br>obtain a copy of this license in the LICENSE.txt file in the root directory<br> of this source tree or at http://www.apache.org/licenses/LICENSE-2.0.<p>Any modifications or derivative works of this code must retain this<br>copyright notice, and modified files need to carry a notice indicating<br>that they have been altered from the originals.</p></div>"
            ]
          },
          "metadata": {}
        }
      ]
    }
  ]
}
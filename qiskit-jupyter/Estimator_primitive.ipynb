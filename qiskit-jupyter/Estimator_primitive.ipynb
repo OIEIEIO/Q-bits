{
  "nbformat": 4,
  "nbformat_minor": 0,
  "metadata": {
    "colab": {
      "provenance": [],
      "authorship_tag": "ABX9TyMZtJgcI/+J3Yva9Pei72qS",
      "include_colab_link": true
    },
    "kernelspec": {
      "name": "python3",
      "display_name": "Python 3"
    },
    "language_info": {
      "name": "python"
    }
  },
  "cells": [
    {
      "cell_type": "markdown",
      "metadata": {
        "id": "view-in-github",
        "colab_type": "text"
      },
      "source": [
        "<a href=\"https://colab.research.google.com/github/OIEIEIO/Q-bits/blob/main/qiskit-jupyter/Estimator_primitive.ipynb\" target=\"_parent\"><img src=\"https://colab.research.google.com/assets/colab-badge.svg\" alt=\"Open In Colab\"/></a>"
      ]
    },
    {
      "cell_type": "markdown",
      "source": [
        "\n",
        "\n",
        "---\n",
        "\n",
        "Get started with the Estimator primitive\n",
        "\n",
        "---\n",
        "\n"
      ],
      "metadata": {
        "id": "oVyE828uBJJB"
      }
    },
    {
      "cell_type": "code",
      "source": [
        "!pip install qiskit"
      ],
      "metadata": {
        "id": "Pww3pqTZdStc"
      },
      "execution_count": null,
      "outputs": []
    },
    {
      "cell_type": "code",
      "execution_count": null,
      "metadata": {
        "id": "KyybdXB5ZkKT"
      },
      "outputs": [],
      "source": [
        "!pip install qiskit-ibm-runtime"
      ]
    },
    {
      "cell_type": "code",
      "source": [
        "from qiskit_ibm_runtime import QiskitRuntimeService, Sampler\n",
        "\n",
        "# Save your credentials on disk.\n",
        "QiskitRuntimeService.save_account(channel='ibm_quantum', token='use you IBM quantum API token')\n",
        "\n",
        "service = QiskitRuntimeService()"
      ],
      "metadata": {
        "id": "sqmYWECA-P_f"
      },
      "execution_count": null,
      "outputs": []
    },
    {
      "cell_type": "code",
      "source": [
        "from qiskit_ibm_runtime import QiskitRuntimeService, Estimator\n",
        "from qiskit.circuit.library import RealAmplitudes\n",
        "from qiskit.quantum_info import SparsePauliOp\n",
        "\n",
        "service = QiskitRuntimeService()\n",
        "\n",
        "psi1 = RealAmplitudes(num_qubits=2, reps=2)\n",
        "psi2 = RealAmplitudes(num_qubits=2, reps=3)\n",
        "\n",
        "H1 = SparsePauliOp.from_list([(\"II\", 1), (\"IZ\", 2), (\"XI\", 3)])\n",
        "H2 = SparsePauliOp.from_list([(\"IZ\", 1)])\n",
        "H3 = SparsePauliOp.from_list([(\"ZI\", 1), (\"ZZ\", 1)])"
      ],
      "metadata": {
        "id": "XoNCA1_yBy96"
      },
      "execution_count": null,
      "outputs": []
    },
    {
      "cell_type": "code",
      "source": [
        "with Estimator(\n",
        "    circuits=[psi1, psi2],\n",
        "    observables=[H1, H2, H3],\n",
        "    service=service,\n",
        "    options={ \"backend\": \"ibmq_qasm_simulator\" }\n",
        ") as estimator:\n",
        "    theta1 = [0, 1, 1, 2, 3, 5]\n",
        "    theta2 = [0, 1, 1, 2, 3, 5, 8, 13]\n",
        "    theta3 = [1, 2, 3, 4, 5, 6]\n",
        "\n",
        "    # calculate [ <psi1(theta1)|H1|psi1(theta1)> ]\n",
        "    # pass indices of circuits and observables\n",
        "    psi1_H1_result = estimator(circuits=[0], observables=[0], parameter_values=[theta1])\n",
        "    print(psi1_H1_result)\n",
        "\n",
        "    # calculate [ <psi1(theta1)|H2|psi1(theta1)>, <psi1(theta1)|H3|psi1(theta1)> ]\n",
        "    # alternatively you can also pass circuits and observables as objects\n",
        "    psi1_H23_result = estimator(circuits=[psi1, psi1], observables=[H2, H3], parameter_values=[theta1]*2)\n",
        "    print(psi1_H23_result)\n",
        "\n",
        "    # calculate [ <psi2(theta2)|H2|psi2(theta2)> ]\n",
        "    # Note that you don't need to specify the labels \"circuits\", \"observables\", or \"parameter_values\", as long as they are specified in that order.\n",
        "    psi2_H2_result = estimator([1], [1], [theta2])\n",
        "    print(psi2_H2_result)\n",
        "\n",
        "    # calculate [ <psi1(theta1)|H1|psi1(theta1)>, <psi1(theta3)|H1|psi1(theta3)> ]\n",
        "    psi1_H1_result2 = estimator([0, 0], [0, 0], [theta1, theta3])\n",
        "    print(psi1_H1_result2)\n",
        "\n",
        "    # calculate [ <psi1(theta1)|H1|psi1(theta1)>,\n",
        "    #             <psi2(theta2)|H2|psi2(theta2)>,\n",
        "    #             <psi1(theta3)|H3|psi1(theta3)> ]\n",
        "    psi12_H23_result = estimator([0, 1, 0], [0, 1, 2], [theta1, theta2, theta3])\n",
        "    print(psi12_H23_result)"
      ],
      "metadata": {
        "colab": {
          "base_uri": "https://localhost:8080/"
        },
        "id": "6ixCpdhyB8RX",
        "outputId": "cfd3b5a9-8ad1-4c9d-ae62-911b1b70176c"
      },
      "execution_count": null,
      "outputs": [
        {
          "output_type": "stream",
          "name": "stderr",
          "text": [
            "WARNING:websocket:websocket connected\n"
          ]
        },
        {
          "output_type": "stream",
          "name": "stdout",
          "text": [
            "EstimatorResult(values=array([1.58984375]), metadata=[{'variance': 8.681991577148438, 'shots': 1024}])\n"
          ]
        },
        {
          "output_type": "stream",
          "name": "stderr",
          "text": [
            "WARNING:websocket:websocket connected\n",
            "WARNING:websocket:websocket connected\n"
          ]
        },
        {
          "output_type": "stream",
          "name": "stdout",
          "text": [
            "EstimatorResult(values=array([-0.49023438,  0.07421875]), metadata=[{'variance': 0.7596702575683594, 'shots': 1024}, {'variance': 1.9950408935546875, 'shots': 1024}])\n",
            "EstimatorResult(values=array([0.1953125]), metadata=[{'variance': 0.96185302734375, 'shots': 1024}])\n"
          ]
        },
        {
          "output_type": "stream",
          "name": "stderr",
          "text": [
            "WARNING:websocket:websocket connected\n"
          ]
        },
        {
          "output_type": "stream",
          "name": "stdout",
          "text": [
            "EstimatorResult(values=array([1.57617188, 0.89453125]), metadata=[{'variance': 8.751583099365234, 'shots': 1024}, {'variance': 11.851791381835938, 'shots': 1024}])\n"
          ]
        },
        {
          "output_type": "stream",
          "name": "stderr",
          "text": [
            "WARNING:websocket:websocket connected\n"
          ]
        },
        {
          "output_type": "stream",
          "name": "stdout",
          "text": [
            "EstimatorResult(values=array([ 1.51367188,  0.1953125 , -1.05078125]), metadata=[{'variance': 9.689128875732422, 'shots': 1024}, {'variance': 0.96185302734375, 'shots': 1024}, {'variance': 1.2983932495117188, 'shots': 1024}])\n"
          ]
        }
      ]
    },
    {
      "cell_type": "code",
      "source": [
        "import qiskit_ibm_runtime\n",
        "qiskit_ibm_runtime.version.get_version_info()"
      ],
      "metadata": {
        "id": "KOJvdi5_YDOA"
      },
      "execution_count": null,
      "outputs": []
    },
    {
      "cell_type": "code",
      "source": [
        "from qiskit.tools.jupyter import *\n",
        "%qiskit_version_table\n",
        "%qiskit_copyright"
      ],
      "metadata": {
        "id": "ROoXuyfNYEZ1"
      },
      "execution_count": null,
      "outputs": []
    }
  ]
}
{
  "nbformat": 4,
  "nbformat_minor": 0,
  "metadata": {
    "colab": {
      "provenance": [],
      "authorship_tag": "ABX9TyMQxXfE5A3hssYGKZDcMxIr",
      "include_colab_link": true
    },
    "kernelspec": {
      "name": "python3",
      "display_name": "Python 3"
    },
    "language_info": {
      "name": "python"
    }
  },
  "cells": [
    {
      "cell_type": "markdown",
      "metadata": {
        "id": "view-in-github",
        "colab_type": "text"
      },
      "source": [
        "<a href=\"https://colab.research.google.com/github/OIEIEIO/Q-bits/blob/main/qiskit-jupyter/multiple_circuit_example.ipynb\" target=\"_parent\"><img src=\"https://colab.research.google.com/assets/colab-badge.svg\" alt=\"Open In Colab\"/></a>"
      ]
    },
    {
      "cell_type": "markdown",
      "source": [
        "\n",
        "\n",
        "---\n",
        "\n",
        "\n",
        "Multiple circuit example\n",
        "\n",
        "\n",
        "---\n",
        "\n"
      ],
      "metadata": {
        "id": "EgSSPKmN_Lli"
      }
    },
    {
      "cell_type": "code",
      "source": [
        "!pip install qiskit"
      ],
      "metadata": {
        "id": "Pww3pqTZdStc"
      },
      "execution_count": null,
      "outputs": []
    },
    {
      "cell_type": "code",
      "execution_count": null,
      "metadata": {
        "id": "KyybdXB5ZkKT"
      },
      "outputs": [],
      "source": [
        "!pip install qiskit-ibm-runtime"
      ]
    },
    {
      "cell_type": "code",
      "source": [
        "from qiskit_ibm_runtime import QiskitRuntimeService, Sampler\n",
        "\n",
        "# Save your credentials on disk.\n",
        "QiskitRuntimeService.save_account(channel='ibm_quantum', token='6523b2a30d9970e53')\n",
        "\n",
        "service = QiskitRuntimeService()"
      ],
      "metadata": {
        "id": "sqmYWECA-P_f"
      },
      "execution_count": null,
      "outputs": []
    },
    {
      "cell_type": "code",
      "source": [
        "from qiskit_ibm_runtime import QiskitRuntimeService, Sampler\n",
        "from qiskit import QuantumCircuit\n",
        "\n",
        "service = QiskitRuntimeService()\n",
        "\n",
        "bell = QuantumCircuit(2)\n",
        "bell.h(0)\n",
        "bell.cx(0, 1)\n",
        "bell.measure_all()\n",
        "\n",
        "# executes three Bell circuits\n",
        "with Sampler(circuits=[bell]*3, service=service, options={ \"backend\": \"ibmq_qasm_simulator\" }) as sampler:\n",
        "    # alternatively you can also pass circuits as objects\n",
        "    result = sampler(circuits=[bell]*3)\n",
        "    print(result)"
      ],
      "metadata": {
        "colab": {
          "base_uri": "https://localhost:8080/"
        },
        "id": "qVcB2kE6-UYm",
        "outputId": "ab81b919-1b63-44f0-924b-206a8dff5e80"
      },
      "execution_count": null,
      "outputs": [
        {
          "output_type": "stream",
          "name": "stderr",
          "text": [
            "WARNING:websocket:websocket connected\n"
          ]
        },
        {
          "output_type": "stream",
          "name": "stdout",
          "text": [
            "SamplerResult(quasi_dists=[{'11': 0.48046875, '00': 0.51953125}, {'11': 0.52734375, '00': 0.47265625}, {'00': 0.4873046875, '11': 0.5126953125}], metadata=[{'header_metadata': {}, 'shots': 1024}, {'header_metadata': {}, 'shots': 1024}, {'header_metadata': {}, 'shots': 1024}])\n"
          ]
        }
      ]
    },
    {
      "cell_type": "code",
      "source": [
        "from qiskit_ibm_runtime import QiskitRuntimeService, Sampler\n",
        "from qiskit import QuantumCircuit\n",
        "from qiskit.circuit.library import RealAmplitudes\n",
        "\n",
        "service = QiskitRuntimeService()\n",
        "\n",
        "# parameterized circuit\n",
        "pqc = RealAmplitudes(num_qubits=2, reps=2)\n",
        "pqc.measure_all()\n",
        "pqc2 = RealAmplitudes(num_qubits=2, reps=3)\n",
        "pqc2.measure_all()\n",
        "\n",
        "theta1 = [0, 1, 1, 2, 3, 5]\n",
        "theta2 = [1, 2, 3, 4, 5, 6]\n",
        "theta3 = [0, 1, 2, 3, 4, 5, 6, 7]\n",
        "\n",
        "with Sampler(circuits=[pqc, pqc2], service=service, options={ \"backend\": \"ibmq_qasm_simulator\" }) as sampler:\n",
        "    result = sampler(circuits=[0, 0, 1], parameter_values=[theta1, theta2, theta3])\n",
        "    print(result)"
      ],
      "metadata": {
        "colab": {
          "base_uri": "https://localhost:8080/"
        },
        "id": "RFo7FUIx-62s",
        "outputId": "bfb1d51b-9075-42dd-ebcd-4e1511b40284"
      },
      "execution_count": null,
      "outputs": [
        {
          "output_type": "stream",
          "name": "stderr",
          "text": [
            "WARNING:websocket:websocket connected\n"
          ]
        },
        {
          "output_type": "stream",
          "name": "stdout",
          "text": [
            "SamplerResult(quasi_dists=[{'10': 0.09375, '00': 0.109375, '11': 0.4248046875, '01': 0.3720703125}, {'01': 0.029296875, '00': 0.0595703125, '10': 0.623046875, '11': 0.2880859375}, {'11': 0.0224609375, '01': 0.7021484375, '10': 0.091796875, '00': 0.18359375}], metadata=[{'header_metadata': {}, 'shots': 1024}, {'header_metadata': {}, 'shots': 1024}, {'header_metadata': {}, 'shots': 1024}])\n"
          ]
        }
      ]
    },
    {
      "cell_type": "code",
      "source": [
        "import qiskit_ibm_runtime\n",
        "qiskit_ibm_runtime.version.get_version_info()"
      ],
      "metadata": {
        "id": "KOJvdi5_YDOA"
      },
      "execution_count": null,
      "outputs": []
    },
    {
      "cell_type": "code",
      "source": [
        "from qiskit.tools.jupyter import *\n",
        "%qiskit_version_table\n",
        "%qiskit_copyright"
      ],
      "metadata": {
        "id": "ROoXuyfNYEZ1"
      },
      "execution_count": null,
      "outputs": []
    }
  ]
}
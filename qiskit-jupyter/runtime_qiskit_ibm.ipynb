{
  "nbformat": 4,
  "nbformat_minor": 0,
  "metadata": {
    "colab": {
      "provenance": [],
      "collapsed_sections": [],
      "authorship_tag": "ABX9TyPEr+DFdbZYIxdtzhqNI40F",
      "include_colab_link": true
    },
    "kernelspec": {
      "name": "python3",
      "display_name": "Python 3"
    },
    "language_info": {
      "name": "python"
    }
  },
  "cells": [
    {
      "cell_type": "markdown",
      "metadata": {
        "id": "view-in-github",
        "colab_type": "text"
      },
      "source": [
        "<a href=\"https://colab.research.google.com/github/OIEIEIO/Q-bits/blob/main/qiskit-jupyter/runtime_qiskit_ibm.ipynb\" target=\"_parent\"><img src=\"https://colab.research.google.com/assets/colab-badge.svg\" alt=\"Open In Colab\"/></a>"
      ]
    },
    {
      "cell_type": "code",
      "source": [
        "!pip install qiskit"
      ],
      "metadata": {
        "id": "Pww3pqTZdStc"
      },
      "execution_count": null,
      "outputs": []
    },
    {
      "cell_type": "code",
      "execution_count": null,
      "metadata": {
        "id": "KyybdXB5ZkKT"
      },
      "outputs": [],
      "source": [
        "!pip install qiskit-ibm-runtime"
      ]
    },
    {
      "cell_type": "code",
      "source": [
        "from qiskit_ibm_runtime import QiskitRuntimeService, Sampler\n",
        "\n",
        "# Save your credentials on disk.\n",
        "QiskitRuntimeService.save_account(channel='ibm_quantum', token='3eeff605-API')\n",
        "\n",
        "service = QiskitRuntimeService()"
      ],
      "metadata": {
        "id": "VmIxcgBVaTCL"
      },
      "execution_count": null,
      "outputs": []
    },
    {
      "cell_type": "code",
      "source": [
        "from qiskit_ibm_runtime import QiskitRuntimeService\n",
        "service = QiskitRuntimeService()\n",
        "service.pprint_programs()"
      ],
      "metadata": {
        "colab": {
          "base_uri": "https://localhost:8080/"
        },
        "id": "fZHsop_eg450",
        "outputId": "ed9af756-90e4-47b8-fcc5-116b6c9d4c96"
      },
      "execution_count": null,
      "outputs": [
        {
          "output_type": "stream",
          "name": "stdout",
          "text": [
            "==================================================\n",
            "hello-world:\n",
            "  Name: hello-world\n",
            "  Description: A sample runtime program.\n",
            "==================================================\n",
            "qaoa:\n",
            "  Name: qaoa\n",
            "  Description: Qiskit Runtime QAOA program.\n",
            "==================================================\n",
            "torch-train:\n",
            "  Name: torch-train\n",
            "  Description: (DEPRECATED) A runtime program to train hybrid QNN models with Pytorch.\n",
            "==================================================\n",
            "torch-infer:\n",
            "  Name: torch-infer\n",
            "  Description: (DEPRECATED) A runtime program to run inference and calculate the scores of Hybrid QNN models with Pytorch.\n",
            "==================================================\n",
            "qasm3-runner:\n",
            "  Name: qasm3-runner\n",
            "  Description: A runtime program that takes one or more circuits, converts them to OpenQASM3, compiles them, executes them, and optionally applies measurement error mitigation. This program can also take and execute one or more OpenQASM3 strings. Note that this program can only run on a backend that supports OpenQASM3.\n",
            "==================================================\n",
            "sampler:\n",
            "  Name: sampler\n",
            "  Description: Generates quasi-probabilities by sampling quantum circuits.\n",
            "==================================================\n",
            "estimator:\n",
            "  Name: estimator\n",
            "  Description: Calculates expectation values of quantum operators.\n",
            "==================================================\n",
            "sample-expval:\n",
            "  Name: sample-expval\n",
            "  Description: (DEPRECATED) A sample expectation value program.\n",
            "==================================================\n",
            "vqe:\n",
            "  Name: vqe\n",
            "  Description: Variational Quantum Eigensolver (VQE) to find the minimal eigenvalue of a Hamiltonian.\n",
            "==================================================\n",
            "circuit-runner:\n",
            "  Name: circuit-runner\n",
            "  Description: A runtime program that takes one or more circuits, compiles them, executes them, and optionally applies measurement error mitigation.\n",
            "==================================================\n",
            "sample-program:\n",
            "  Name: sample-program\n",
            "  Description: (DEPRECATED) A sample runtime program. This runtime program is deprecated, please use hello-world instead.\n",
            "==================================================\n",
            "quantum-kernel-alignment:\n",
            "  Name: quantum-kernel-alignment\n",
            "  Description: (DEPRECATED) Quantum kernel alignment algorithm that learns, on a given dataset, a quantum kernel maximizing the SVM classification margin.\n"
          ]
        }
      ]
    },
    {
      "cell_type": "code",
      "source": [
        "from qiskit_ibm_runtime import QiskitRuntimeService\n",
        "service = QiskitRuntimeService()\n",
        "\n",
        "# Display all backends you have access.\n",
        "print(service.backends())"
      ],
      "metadata": {
        "colab": {
          "base_uri": "https://localhost:8080/"
        },
        "id": "dGlTY0h4eEyw",
        "outputId": "7629533f-8766-4643-c99c-b4237c3e2a7e"
      },
      "execution_count": null,
      "outputs": [
        {
          "output_type": "stream",
          "name": "stdout",
          "text": [
            "[<IBMBackend('ibmq_qasm_simulator')>, <IBMBackend('ibmq_lima')>, <IBMBackend('ibmq_belem')>, <IBMBackend('ibmq_quito')>, <IBMBackend('simulator_statevector')>, <IBMBackend('simulator_mps')>, <IBMBackend('simulator_extended_stabilizer')>, <IBMBackend('simulator_stabilizer')>, <IBMBackend('ibmq_manila')>, <IBMBackend('ibm_nairobi')>, <IBMBackend('ibm_oslo')>]\n"
          ]
        }
      ]
    },
    {
      "cell_type": "code",
      "source": [
        "from qiskit_ibm_runtime import QiskitRuntimeService, Sampler\n",
        "from qiskit import QuantumCircuit\n",
        "\n",
        "service = QiskitRuntimeService()\n",
        "\n",
        "bell = QuantumCircuit(2)\n",
        "bell.h(0)\n",
        "bell.cx(0, 1)\n",
        "bell.measure_all()\n",
        "\n",
        "print(bell.draw())"
      ],
      "metadata": {
        "colab": {
          "base_uri": "https://localhost:8080/"
        },
        "id": "Iv6AqsjQhfEH",
        "outputId": "03b98b70-6e89-486b-c32c-c20800b71aac"
      },
      "execution_count": null,
      "outputs": [
        {
          "output_type": "stream",
          "name": "stdout",
          "text": [
            "        ┌───┐      ░ ┌─┐   \n",
            "   q_0: ┤ H ├──■───░─┤M├───\n",
            "        └───┘┌─┴─┐ ░ └╥┘┌─┐\n",
            "   q_1: ─────┤ X ├─░──╫─┤M├\n",
            "             └───┘ ░  ║ └╥┘\n",
            "meas_0: ══════════════╩══╬═\n",
            "                         ║ \n",
            "meas_1: ═════════════════╩═\n",
            "                           \n"
          ]
        }
      ]
    },
    {
      "cell_type": "code",
      "source": [
        "with Sampler(circuits=[bell]*3, service=service, options={ \"backend\": \"ibmq_qasm_simulator\" }) as sampler:\n",
        "    result1 = sampler(circuit_indices=[0, 1, 2], shots=2000)\n",
        "    print(result1)\n",
        "\n",
        "    result2 = sampler(circuit_indices=[0, 1, 2], shots=3000)\n",
        "    print(result2)\n",
        "\n",
        "    result3 = sampler(circuit_indices=[0, 1, 2], shots=4000)\n",
        "    print(result3)"
      ],
      "metadata": {
        "colab": {
          "base_uri": "https://localhost:8080/"
        },
        "id": "mIsC9mjCj08-",
        "outputId": "fc9bac4b-346a-42ae-9114-363965bb2ced"
      },
      "execution_count": null,
      "outputs": [
        {
          "output_type": "stream",
          "name": "stderr",
          "text": [
            "/usr/local/lib/python3.7/dist-packages/ipykernel_launcher.py:2: DeprecationWarning: __call__ keyword argument circuit_indices is deprecated and replaced with circuits.\n",
            "  \n",
            "WARNING:websocket:websocket connected\n"
          ]
        },
        {
          "output_type": "stream",
          "name": "stdout",
          "text": [
            "SamplerResult(quasi_dists=[{'00': 0.5115, '11': 0.4885}, {'11': 0.5135, '00': 0.4865}, {'11': 0.4915, '00': 0.5085}], metadata=[{'header_metadata': {}, 'shots': 2000}, {'header_metadata': {}, 'shots': 2000}, {'header_metadata': {}, 'shots': 2000}])\n"
          ]
        },
        {
          "output_type": "stream",
          "name": "stderr",
          "text": [
            "/usr/local/lib/python3.7/dist-packages/ipykernel_launcher.py:5: DeprecationWarning: __call__ keyword argument circuit_indices is deprecated and replaced with circuits.\n",
            "  \"\"\"\n",
            "WARNING:websocket:websocket connected\n"
          ]
        },
        {
          "output_type": "stream",
          "name": "stdout",
          "text": [
            "SamplerResult(quasi_dists=[{'00': 0.48633333333333334, '11': 0.5136666666666667}, {'11': 0.499, '00': 0.501}, {'00': 0.507, '11': 0.493}], metadata=[{'header_metadata': {}, 'shots': 3000}, {'header_metadata': {}, 'shots': 3000}, {'header_metadata': {}, 'shots': 3000}])\n"
          ]
        },
        {
          "output_type": "stream",
          "name": "stderr",
          "text": [
            "/usr/local/lib/python3.7/dist-packages/ipykernel_launcher.py:8: DeprecationWarning: __call__ keyword argument circuit_indices is deprecated and replaced with circuits.\n",
            "  \n",
            "WARNING:websocket:websocket connected\n"
          ]
        },
        {
          "output_type": "stream",
          "name": "stdout",
          "text": [
            "SamplerResult(quasi_dists=[{'00': 0.495, '11': 0.505}, {'00': 0.50125, '11': 0.49875}, {'11': 0.49, '00': 0.51}], metadata=[{'header_metadata': {}, 'shots': 4000}, {'header_metadata': {}, 'shots': 4000}, {'header_metadata': {}, 'shots': 4000}])\n"
          ]
        }
      ]
    },
    {
      "cell_type": "code",
      "source": [
        "from qiskit_ibm_runtime import QiskitRuntimeService, Sampler\n",
        "from qiskit import QuantumCircuit\n",
        "\n",
        "service = QiskitRuntimeService()\n",
        "\n",
        "bell = QuantumCircuit(2)\n",
        "bell.h(0)\n",
        "bell.cx(0, 1)\n",
        "bell.measure_all()\n",
        "\n",
        "print(bell.draw())\n",
        "\n",
        "# executes three Bell circuits\n",
        "with Sampler(circuits=[bell]*3, service=service, options={ \"backend\": \"ibmq_qasm_simulator\" }) as sampler:\n",
        "    # alternatively you can also pass circuits as objects\n",
        "    result = sampler(circuits=[bell]*3, shots=1024)\n",
        "    print(result)"
      ],
      "metadata": {
        "colab": {
          "base_uri": "https://localhost:8080/"
        },
        "id": "vQJS83DfnAJA",
        "outputId": "e12a0f0e-03d1-443a-c3e2-b723855ea13b"
      },
      "execution_count": null,
      "outputs": [
        {
          "output_type": "stream",
          "name": "stdout",
          "text": [
            "        ┌───┐      ░ ┌─┐   \n",
            "   q_0: ┤ H ├──■───░─┤M├───\n",
            "        └───┘┌─┴─┐ ░ └╥┘┌─┐\n",
            "   q_1: ─────┤ X ├─░──╫─┤M├\n",
            "             └───┘ ░  ║ └╥┘\n",
            "meas_0: ══════════════╩══╬═\n",
            "                         ║ \n",
            "meas_1: ═════════════════╩═\n",
            "                           \n"
          ]
        },
        {
          "output_type": "stream",
          "name": "stderr",
          "text": [
            "WARNING:websocket:websocket connected\n"
          ]
        },
        {
          "output_type": "stream",
          "name": "stdout",
          "text": [
            "SamplerResult(quasi_dists=[{'00': 0.4912109375, '11': 0.5087890625}, {'00': 0.5263671875, '11': 0.4736328125}, {'11': 0.513671875, '00': 0.486328125}], metadata=[{'header_metadata': {}, 'shots': 1024}, {'header_metadata': {}, 'shots': 1024}, {'header_metadata': {}, 'shots': 1024}])\n"
          ]
        }
      ]
    },
    {
      "cell_type": "code",
      "source": [
        "# executes a Bell circuit\n",
        "with Sampler(circuits=bell, service=service, options={ \"backend\": \"ibmq_qasm_simulator\" }) as sampler:\n",
        "    # pass indices of circuits\n",
        "    result = sampler(circuits=[0], shots=1024)\n",
        "    print(result)"
      ],
      "metadata": {
        "colab": {
          "base_uri": "https://localhost:8080/"
        },
        "id": "viGGFKtJnTLV",
        "outputId": "f63f493e-83fc-4178-b2ba-5f86e1c49834"
      },
      "execution_count": null,
      "outputs": [
        {
          "output_type": "stream",
          "name": "stderr",
          "text": [
            "WARNING:websocket:websocket connected\n"
          ]
        },
        {
          "output_type": "stream",
          "name": "stdout",
          "text": [
            "SamplerResult(quasi_dists=[{'11': 0.5185546875, '00': 0.4814453125}], metadata=[{'header_metadata': {}, 'shots': 1024}])\n"
          ]
        }
      ]
    },
    {
      "cell_type": "code",
      "source": [
        "import qiskit_ibm_runtime\n",
        "qiskit_ibm_runtime.version.get_version_info()"
      ],
      "metadata": {
        "id": "KOJvdi5_YDOA"
      },
      "execution_count": null,
      "outputs": []
    },
    {
      "cell_type": "code",
      "source": [
        "from qiskit.tools.jupyter import *\n",
        "%qiskit_version_table\n",
        "%qiskit_copyright"
      ],
      "metadata": {
        "id": "ROoXuyfNYEZ1"
      },
      "execution_count": null,
      "outputs": []
    }
  ]
}
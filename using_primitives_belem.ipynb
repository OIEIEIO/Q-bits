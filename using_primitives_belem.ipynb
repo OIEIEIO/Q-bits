{
  "nbformat": 4,
  "nbformat_minor": 0,
  "metadata": {
    "colab": {
      "provenance": [],
      "collapsed_sections": [],
      "machine_shape": "hm",
      "authorship_tag": "ABX9TyN2u3DGzgdwumHbwxcnkKm4",
      "include_colab_link": true
    },
    "kernelspec": {
      "name": "python3",
      "display_name": "Python 3"
    },
    "language_info": {
      "name": "python"
    }
  },
  "cells": [
    {
      "cell_type": "markdown",
      "metadata": {
        "id": "view-in-github",
        "colab_type": "text"
      },
      "source": [
        "<a href=\"https://colab.research.google.com/github/OIEIEIO/Q-bits/blob/main/using_primitives_belem.ipynb\" target=\"_parent\"><img src=\"https://colab.research.google.com/assets/colab-badge.svg\" alt=\"Open In Colab\"/></a>"
      ]
    },
    {
      "cell_type": "markdown",
      "source": [
        "\n",
        "\n",
        "---\n",
        "\n",
        "Submitting user-transpiled circuits using primitives\n",
        "\n",
        "---\n",
        "\n"
      ],
      "metadata": {
        "id": "0-GyFD3CMYtJ"
      }
    },
    {
      "cell_type": "code",
      "source": [
        "!pip install qiskit"
      ],
      "metadata": {
        "id": "Pww3pqTZdStc"
      },
      "execution_count": null,
      "outputs": []
    },
    {
      "cell_type": "code",
      "execution_count": null,
      "metadata": {
        "id": "KyybdXB5ZkKT"
      },
      "outputs": [],
      "source": [
        "!pip install qiskit-ibm-runtime"
      ]
    },
    {
      "cell_type": "code",
      "source": [
        "!pip install pylatexenc"
      ],
      "metadata": {
        "id": "eHUAnGAcEdIF"
      },
      "execution_count": null,
      "outputs": []
    },
    {
      "cell_type": "code",
      "source": [
        "from qiskit_ibm_runtime import QiskitRuntimeService, Sampler\n",
        "\n",
        "# Save your credentials on disk.\n",
        "QiskitRuntimeService.save_account(channel='ibm_quantum', token='use you IBM quantum API token')\n",
        "\n",
        "service = QiskitRuntimeService()"
      ],
      "metadata": {
        "id": "sqmYWECA-P_f"
      },
      "execution_count": 4,
      "outputs": []
    },
    {
      "cell_type": "markdown",
      "source": [
        "\n",
        "\n",
        "---\n",
        "\n",
        "Transpiling circuits for IBM Quantum devices\n",
        "\n",
        "---\n",
        "\n"
      ],
      "metadata": {
        "id": "Td6CoQKLM7RP"
      }
    },
    {
      "cell_type": "code",
      "source": [
        "# Create circuit to test transpiler on\n",
        "from qiskit import QuantumCircuit\n",
        "from qiskit.circuit.library import GroverOperator, Diagonal\n",
        "oracle = Diagonal([1]*7 + [-1])\n",
        "qc = QuantumCircuit(3)\n",
        "qc.h([0,1,2])\n",
        "qc = qc.compose(GroverOperator(oracle))\n",
        "\n",
        "# Use Statevector object to calculate the ideal output\n",
        "from qiskit.quantum_info import Statevector\n",
        "ideal_distribution = Statevector.from_instruction(qc).probabilities_dict()\n",
        "\n",
        "from qiskit.visualization import plot_histogram\n",
        "plot_histogram(ideal_distribution)"
      ],
      "metadata": {
        "colab": {
          "base_uri": "https://localhost:8080/",
          "height": 340
        },
        "id": "Wllrkk1gND2D",
        "outputId": "ede9a300-f620-4258-ab36-3664aaaae0c9"
      },
      "execution_count": 5,
      "outputs": [
        {
          "output_type": "execute_result",
          "data": {
            "text/plain": [
              "<Figure size 504x360 with 1 Axes>"
            ],
            "image/png": "[encoded data removed]"
          },
          "metadata": {},
          "execution_count": 5
        }
      ]
    },
    {
      "cell_type": "code",
      "source": [
        "from qiskit_ibm_runtime import QiskitRuntimeService, Sampler\n",
        "\n",
        "service = QiskitRuntimeService()\n",
        "backend = service.backend('ibmq_belem')\n",
        "\n",
        "# Need to add measurements to the circuit\n",
        "qc.measure_all()\n",
        "\n",
        "from qiskit import transpile\n",
        "circuits = []\n",
        "for optimization_level in [0, 3]:\n",
        "    t_qc = transpile(qc,\n",
        "                     backend,\n",
        "                     optimization_level=optimization_level,\n",
        "                     seed_transpiler=0)\n",
        "    print(f'CNOTs (optimization_level={optimization_level}): ',\n",
        "          t_qc.count_ops()['cx'])\n",
        "    circuits.append(t_qc)"
      ],
      "metadata": {
        "colab": {
          "base_uri": "https://localhost:8080/"
        },
        "id": "VtnBvwkoNM3d",
        "outputId": "8f644e97-fd03-4fb5-968a-8d9d5ac3d4d8"
      },
      "execution_count": 6,
      "outputs": [
        {
          "output_type": "stream",
          "name": "stdout",
          "text": [
            "CNOTs (optimization_level=0):  27\n",
            "CNOTs (optimization_level=3):  14\n"
          ]
        }
      ]
    },
    {
      "cell_type": "code",
      "source": [
        "from qiskit.transpiler import PassManager, InstructionDurations\n",
        "from qiskit.transpiler.passes import ASAPSchedule, DynamicalDecoupling\n",
        "from qiskit.circuit.library import XGate\n",
        "\n",
        "# Get gate durations so the transpiler knows how long each operation takes\n",
        "durations = InstructionDurations.from_backend(backend)\n",
        "\n",
        "# This is the sequence we'll apply to idling qubits\n",
        "dd_sequence = [XGate(), XGate()]\n",
        "\n",
        "# Run scheduling and dynamic decoupling passes on circuit\n",
        "pm = PassManager([ASAPSchedule(durations),\n",
        "                  DynamicalDecoupling(durations, dd_sequence)]\n",
        "                )\n",
        "circ_dd = pm.run(circuits[1])\n",
        "\n",
        "# Add this new circuit to our list\n",
        "circuits.append(circ_dd)"
      ],
      "metadata": {
        "id": "HIhqhImsOGgz"
      },
      "execution_count": 7,
      "outputs": []
    },
    {
      "cell_type": "markdown",
      "source": [
        "Run user-transpiled circuits using Qiskit Runtime"
      ],
      "metadata": {
        "id": "PnSEzRyWONzG"
      }
    },
    {
      "cell_type": "code",
      "source": [
        "from qiskit_ibm_runtime import Sampler\n",
        "\n",
        "with Sampler(circuits=circuits, service=service,\n",
        "             options={'backend': backend},\n",
        "             skip_transpilation=True) as sampler:\n",
        "    result = sampler(\n",
        "        circuits=[0,1,2],  # sample all three circuits\n",
        "        shots=8000\n",
        "    )"
      ],
      "metadata": {
        "colab": {
          "base_uri": "https://localhost:8080/"
        },
        "id": "ri23im_zOPkj",
        "outputId": "70875f83-3b1d-41f6-8e6c-237881abfaea"
      },
      "execution_count": 8,
      "outputs": [
        {
          "output_type": "stream",
          "name": "stderr",
          "text": [
            "WARNING:websocket:websocket connected\n"
          ]
        }
      ]
    },
    {
      "cell_type": "code",
      "source": [
        "from qiskit.visualization import plot_histogram\n",
        "plot_histogram(result.quasi_dists+[ideal_distribution],\n",
        "               bar_labels=False,\n",
        "               legend=['optimization_level=0',\n",
        "                       'optimization_level=3',\n",
        "                       'optimization_level=3 + dd',\n",
        "                       'ideal distribution'])"
      ],
      "metadata": {
        "colab": {
          "base_uri": "https://localhost:8080/",
          "height": 340
        },
        "id": "uusS8UJNOaBI",
        "outputId": "416f7712-aa1a-4f89-e111-277d607432e6"
      },
      "execution_count": 9,
      "outputs": [
        {
          "output_type": "execute_result",
          "data": {
            "text/plain": [
              "<Figure size 504x360 with 1 Axes>"
            ],
            "image/png": "[encoded data removed]"
          },
          "metadata": {},
          "execution_count": 9
        }
      ]
    },
    {
      "cell_type": "code",
      "source": [
        "from qiskit.quantum_info import hellinger_fidelity\n",
        "for counts in result.quasi_dists:\n",
        "    print(\n",
        "        f\"{hellinger_fidelity(counts, ideal_distribution):.3f}\"\n",
        "    )"
      ],
      "metadata": {
        "colab": {
          "base_uri": "https://localhost:8080/"
        },
        "id": "AE2jn-1POegB",
        "outputId": "bb438d43-f2ce-49cb-d011-908068f0be82"
      },
      "execution_count": 10,
      "outputs": [
        {
          "output_type": "stream",
          "name": "stdout",
          "text": [
            "0.850\n",
            "0.894\n",
            "0.910\n"
          ]
        }
      ]
    },
    {
      "cell_type": "code",
      "source": [
        "import qiskit_ibm_runtime\n",
        "qiskit_ibm_runtime.version.get_version_info()"
      ],
      "metadata": {
        "colab": {
          "base_uri": "https://localhost:8080/",
          "height": 35
        },
        "id": "hn4CLvG5OhAy",
        "outputId": "07550fd0-0c69-465a-ba77-9c816267373e"
      },
      "execution_count": 11,
      "outputs": [
        {
          "output_type": "execute_result",
          "data": {
            "text/plain": [
              "'0.6.2'"
            ],
            "application/vnd.google.colaboratory.intrinsic+json": {
              "type": "string"
            }
          },
          "metadata": {},
          "execution_count": 11
        }
      ]
    },
    {
      "cell_type": "code",
      "source": [
        "from qiskit.tools.jupyter import *\n",
        "%qiskit_version_table\n",
        "%qiskit_copyright"
      ],
      "metadata": {
        "colab": {
          "base_uri": "https://localhost:8080/",
          "height": 555
        },
        "id": "jH3utemOOkZB",
        "outputId": "d53a5b1c-921b-4d2e-e6d3-870fee7d34cd"
      },
      "execution_count": 12,
      "outputs": [
        {
          "output_type": "display_data",
          "data": {
            "text/plain": [
              "<IPython.core.display.HTML object>"
            ],
            "text/html": [
              "<h3>Version Information</h3><table><tr><th>Qiskit Software</th><th>Version</th></tr><tr><td><code>qiskit-terra</code></td><td>0.22.0</td></tr><tr><td><code>qiskit-aer</code></td><td>0.11.0</td></tr><tr><td><code>qiskit-ibmq-provider</code></td><td>0.19.2</td></tr><tr><td><code>qiskit</code></td><td>0.39.0</td></tr><tr><th>System information</th></tr><tr><td>Python version</td><td>3.7.15</td></tr><tr><td>Python compiler</td><td>GCC 7.5.0</td></tr><tr><td>Python build</td><td>default, Oct 12 2022 19:14:55</td></tr><tr><td>OS</td><td>Linux</td></tr><tr><td>CPUs</td><td>2</td></tr><tr><td>Memory (Gb)</td><td>25.454177856445312</td></tr><tr><td colspan='2'>Thu Oct 20 21:38:55 2022 UTC</td></tr></table>"
            ]
          },
          "metadata": {}
        },
        {
          "output_type": "display_data",
          "data": {
            "text/plain": [
              "<IPython.core.display.HTML object>"
            ],
            "text/html": [
              "<div style='width: 100%; background-color:#d5d9e0;padding-left: 10px; padding-bottom: 10px; padding-right: 10px; padding-top: 5px'><h3>This code is a part of Qiskit</h3><p>&copy; Copyright IBM 2017, 2022.</p><p>This code is licensed under the Apache License, Version 2.0. You may<br>obtain a copy of this license in the LICENSE.txt file in the root directory<br> of this source tree or at http://www.apache.org/licenses/LICENSE-2.0.<p>Any modifications or derivative works of this code must retain this<br>copyright notice, and modified files need to carry a notice indicating<br>that they have been altered from the originals.</p></div>"
            ]
          },
          "metadata": {}
        }
      ]
    },
    {
      "cell_type": "code",
      "source": [],
      "metadata": {
        "id": "GyJhpy1sOnvW"
      },
      "execution_count": null,
      "outputs": []
    }
  ]
}